{
 "cells": [
  {
   "cell_type": "markdown",
   "id": "7845dafd",
   "metadata": {},
   "source": [
    "- created a repository github. copied http url\n",
    "- opened terminal 'git clone http..'\n",
    "- edited a file.\n",
    "- "
   ]
  },
  {
   "cell_type": "markdown",
   "id": "3d6c04fa",
   "metadata": {},
   "source": []
  }
 ],
 "metadata": {
  "language_info": {
   "name": "python"
  }
 },
 "nbformat": 4,
 "nbformat_minor": 5
}
